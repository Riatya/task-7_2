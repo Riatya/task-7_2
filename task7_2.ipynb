{
  "cells": [
    {
      "cell_type": "markdown",
      "metadata": {
        "id": "view-in-github",
        "colab_type": "text"
      },
      "source": [
        "<a href=\"https://colab.research.google.com/github/Riatya/task-7_2/blob/main/task7_2.ipynb\" target=\"_parent\"><img src=\"https://colab.research.google.com/assets/colab-badge.svg\" alt=\"Open In Colab\"/></a>"
      ]
    },
    {
      "cell_type": "code",
      "execution_count": 1,
      "metadata": {
        "colab": {
          "base_uri": "https://localhost:8080/"
        },
        "id": "WY_huxXFY4R6",
        "outputId": "75e22226-7a1d-45b0-b96a-b6210d5d8375"
      },
      "outputs": [
        {
          "output_type": "stream",
          "name": "stdout",
          "text": [
            "3 a\n"
          ]
        }
      ],
      "source": [
        "def check_input(element):\n",
        "    return isinstance(element, str)\n",
        "\n",
        "def get_substring(s):\n",
        "    max_length = 0\n",
        "    result = \"\"\n",
        "    for i in range(len(s)):\n",
        "        seen = set()\n",
        "        current_string = \"\"\n",
        "        for j in range(i, len(s)):\n",
        "            if s[j] not in seen:\n",
        "                seen.add(s[j])\n",
        "                current_string += s[j]\n",
        "                if len(current_string) > max_length:\n",
        "                    max_length = len(current_string)\n",
        "                    result = current_string\n",
        "            else:\n",
        "                break\n",
        "    return result\n",
        "\n",
        "def main(lst):\n",
        "    longest_str_index = -1\n",
        "    longest_str = \"\"\n",
        "    for index, element in enumerate(lst):\n",
        "        if check_input(element) and len(element) > len(longest_str):\n",
        "            longest_str_index = index\n",
        "            longest_str = element\n",
        "\n",
        "    if longest_str_index == -1:\n",
        "        substring = \"\"\n",
        "    else:\n",
        "        substring = get_substring(longest_str)\n",
        "\n",
        "    print(longest_str_index, substring)\n",
        "\n",
        "lst = [[0, 4, 8], 'abca', 7, 'aaaaa']\n",
        "main(lst)"
      ]
    }
  ],
  "metadata": {
    "colab": {
      "provenance": [],
      "authorship_tag": "ABX9TyP62U7eDjLxt/WtP30fcM8i",
      "include_colab_link": true
    },
    "kernelspec": {
      "display_name": "Python 3",
      "name": "python3"
    },
    "language_info": {
      "name": "python"
    }
  },
  "nbformat": 4,
  "nbformat_minor": 0
}